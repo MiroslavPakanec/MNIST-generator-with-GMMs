{
 "cells": [
  {
   "cell_type": "code",
   "execution_count": 1,
   "metadata": {},
   "outputs": [
    {
     "ename": "ModuleNotFoundError",
     "evalue": "No module named 'numpy'",
     "output_type": "error",
     "traceback": [
      "\u001b[1;31m---------------------------------------------------------------------------\u001b[0m",
      "\u001b[1;31mModuleNotFoundError\u001b[0m                       Traceback (most recent call last)",
      "Cell \u001b[1;32mIn[1], line 1\u001b[0m\n\u001b[1;32m----> 1\u001b[0m \u001b[38;5;28;01mimport\u001b[39;00m \u001b[38;5;21;01mnumpy\u001b[39;00m \u001b[38;5;28;01mas\u001b[39;00m \u001b[38;5;21;01mnp\u001b[39;00m\n\u001b[0;32m      2\u001b[0m \u001b[38;5;28;01mimport\u001b[39;00m \u001b[38;5;21;01mpandas\u001b[39;00m \u001b[38;5;28;01mas\u001b[39;00m \u001b[38;5;21;01mpd\u001b[39;00m\n\u001b[0;32m      3\u001b[0m \u001b[38;5;28;01mfrom\u001b[39;00m \u001b[38;5;21;01mscipy\u001b[39;00m\u001b[38;5;21;01m.\u001b[39;00m\u001b[38;5;21;01mstats\u001b[39;00m \u001b[38;5;28;01mimport\u001b[39;00m multivariate_normal\n",
      "\u001b[1;31mModuleNotFoundError\u001b[0m: No module named 'numpy'"
     ]
    }
   ],
   "source": [
    "import numpy as np\n",
    "import pandas as pd\n",
    "from scipy.stats import multivariate_normal\n",
    "import matplotlib.pyplot as plt\n",
    "from random import randrange"
   ]
  },
  {
   "cell_type": "code",
   "execution_count": 8,
   "metadata": {},
   "outputs": [],
   "source": [
    "usecols = tuple(range(1, 784))\n",
    "data = np.genfromtxt('../data/train.csv', delimiter=',', skip_header=1, usecols=usecols)"
   ]
  },
  {
   "cell_type": "code",
   "execution_count": 61,
   "metadata": {},
   "outputs": [],
   "source": [
    "file_path = '../data/train.csv'\n",
    "df = pd.read_csv(file_path)"
   ]
  },
  {
   "cell_type": "code",
   "execution_count": 209,
   "metadata": {},
   "outputs": [],
   "source": [
    "def load_train_data():   \n",
    "    df = pd.read_csv('../data/train.csv')\n",
    "    xs = df.iloc[:, 1:]\n",
    "    ys = df.iloc[:, 0]\n",
    "    labels = ys.unique()\n",
    "    means, covariances, priors = {}, {}, {}\n",
    "    for y in labels: \n",
    "        means[y] = xs[ys == y].mean().values # mean value of each pixel accross examples converted to numpy\n",
    "        covariances[y] = xs[ys == y].cov().values # relationshops between pixels\n",
    "        priors[y] = len(xs[ys == y]) / len(xs) # p(y)\n",
    "    return xs, ys, labels, means, covariances, priors\n",
    "\n",
    "def load_test_data():\n",
    "    xs = pd.read_csv('../data/train.csv')\n",
    "    return xs\n"
   ]
  },
  {
   "cell_type": "code",
   "execution_count": 200,
   "metadata": {},
   "outputs": [
    {
     "name": "stdout",
     "output_type": "stream",
     "text": [
      "(784,) (784, 784)\n"
     ]
    }
   ],
   "source": [
    "X = df.iloc[:, 1:]\n",
    "ys = df.iloc[:, 0]\n",
    "labels = ys.unique()\n",
    "\n",
    "means = {}\n",
    "covariances = {}\n",
    "priors = {}\n",
    "for y in labels:   \n",
    "    means[y] = X[ys == y].mean().values # mean value of each pixel accross examples converted to numpy\n",
    "    covariances[y] = X[ys == y].cov().values\n",
    "    priors[y] = len(X[ys == y]) / len(ys) # p(y)\n",
    "\n",
    "print(means[0].shape, covariances[0].shape)"
   ]
  },
  {
   "cell_type": "code",
   "execution_count": 148,
   "metadata": {},
   "outputs": [],
   "source": [
    "def visualize_mnist_digit(digit_array):   \n",
    "    digit_image = digit_array.reshape(28, 28)\n",
    "    plt.imshow(digit_image, cmap='gray')\n",
    "    plt.axis('off')\n",
    "    plt.show()"
   ]
  },
  {
   "cell_type": "code",
   "execution_count": 196,
   "metadata": {},
   "outputs": [],
   "source": [
    "def predict(x, means, covariances, priors):\n",
    "    log_posteriors = {}\n",
    "    for y in labels:\n",
    "        log_likelihood = multivariate_normal.logpdf(x, mean=means[y], cov=covariances[y], allow_singular=True)\n",
    "        log_posteriors[y] = log_likelihood + np.log(priors[y])\n",
    "\n",
    "    max_log_posterior = max(log_posteriors.values()) # prevent underflow with the log-sum-exp trick\n",
    "    posteriors = {y: np.exp(log_posteriors[y] - max_log_posterior) for y in labels}\n",
    "    total_posterior = sum(posteriors.values())\n",
    "    for y in labels:\n",
    "        posteriors[y] /= total_posterior\n",
    "    return max(posteriors, key=posteriors.get)"
   ]
  },
  {
   "cell_type": "code",
   "execution_count": 208,
   "metadata": {},
   "outputs": [
    {
     "name": "stdout",
     "output_type": "stream",
     "text": [
      "(784,)\n",
      "(784, 784)\n",
      "True: 2, Pred: 2\n"
     ]
    },
    {
     "data": {
      "image/png": "[encoded data removed]",
      "text/plain": [
       "<Figure size 640x480 with 1 Axes>"
      ]
     },
     "metadata": {},
     "output_type": "display_data"
    }
   ],
   "source": [
    "xs, ys, labels, means, covariances, priors = load_train_data()\n",
    "\n",
    "def sample_train_image(xs, ys, means, covariances, priors):\n",
    "    index = randrange(len(xs))\n",
    "    new_sample = xs.iloc[index].values\n",
    "    label = ys.iloc[index]\n",
    "    result = predict(new_sample, means, covariances, priors)\n",
    "    print(f'True: {label}, Pred: {result}') \n",
    "    visualize_mnist_digit(new_sample)\n",
    "\n",
    "def sample_test_image(xs, means, covariances, priors):\n",
    "    index = randrange(len(xs))\n",
    "    new_sample = xs.iloc[index].values\n",
    "    result = predict(new_sample, means, covariances, priors)\n",
    "    print(f'Pred: {result}') \n",
    "    visualize_mnist_digit(new_sample)\n",
    "\n",
    "sample_train_image(xs, ys, means, covariances, priors)\n",
    "\n",
    "# index = 0\n",
    "# new_sample = xs_test.iloc[index].values\n",
    "# label = ys_test.iloc[index]\n",
    "\n",
    "# result = predict(new_sample)\n",
    "# print(f'True: {label}, Pred: {result}') \n",
    "# visualize_mnist_digit(new_sample)"
   ]
  }
 ],
 "metadata": {
  "kernelspec": {
   "display_name": "ml-course-generative-ai",
   "language": "python",
   "name": "python3"
  },
  "language_info": {
   "codemirror_mode": {
    "name": "ipython",
    "version": 3
   },
   "file_extension": ".py",
   "mimetype": "text/x-python",
   "name": "python",
   "nbconvert_exporter": "python",
   "pygments_lexer": "ipython3",
   "version": "3.11.9"
  }
 },
 "nbformat": 4,
 "nbformat_minor": 2
}
